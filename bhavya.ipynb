{
  "nbformat": 4,
  "nbformat_minor": 0,
  "metadata": {
    "colab": {
      "name": "bhavya.ipynb",
      "provenance": [],
      "authorship_tag": "ABX9TyNNY/1yMv3tGCfxKJQPWooE",
      "include_colab_link": true
    },
    "kernelspec": {
      "name": "python3",
      "display_name": "Python 3"
    },
    "language_info": {
      "name": "python"
    }
  },
  "cells": [
    {
      "cell_type": "markdown",
      "metadata": {
        "id": "view-in-github",
        "colab_type": "text"
      },
      "source": [
        "<a href=\"https://colab.research.google.com/github/bhavyashivalingegowda/assignment_day3/blob/main/bhavya.ipynb\" target=\"_parent\"><img src=\"https://colab.research.google.com/assets/colab-badge.svg\" alt=\"Open In Colab\"/></a>"
      ]
    },
    {
      "cell_type": "code",
      "metadata": {
        "colab": {
          "base_uri": "https://localhost:8080/"
        },
        "id": "s334CIJdhm0C",
        "outputId": "f22798e0-5fbe-487d-b93b-1efbf03810d6"
      },
      "source": [
        "# Assignment Day3\n",
        "# Printing List of people received gift from.\n",
        "\n",
        "gift_presented_to= [2, 1, 5, 3, 4]   \n",
        "\n",
        "print(\"Gift_presented_to: \",gift_presented_to)\n",
        "\n",
        "\n",
        "print(\"Gift recieved from: \",end=\" \")\n",
        "gift_received_from=[2,1,4,5,3]\n",
        "for i in range(len(gift_presented_to)):\n",
        "  \n",
        "  print(str(gift_received_from[i]),end=\" \")"
      ],
      "execution_count": 1,
      "outputs": [
        {
          "output_type": "stream",
          "text": [
            "Gift_presented_to:  [2, 1, 5, 3, 4]\n",
            "Gift recieved from:  2 1 4 5 3 "
          ],
          "name": "stdout"
        }
      ]
    }
  ]
}